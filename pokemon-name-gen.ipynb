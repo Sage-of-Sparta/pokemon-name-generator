{
 "cells": [
  {
   "cell_type": "code",
   "execution_count": 14,
   "metadata": {},
   "outputs": [
    {
     "name": "stderr",
     "output_type": "stream",
     "text": [
      "Using TensorFlow backend.\n"
     ]
    }
   ],
   "source": [
    "# Import libraries\n",
    "import pandas as pd\n",
    "import numpy as np\n",
    "import keras\n",
    "import time\n",
    "from keras.models import Sequential\n",
    "from keras.layers import Dense\n",
    "from keras.layers import LSTM\n",
    "from keras.optimizers import RMSprop\n",
    "import numpy as np\n",
    "import random\n",
    "import os"
   ]
  },
  {
   "cell_type": "code",
   "execution_count": 19,
   "metadata": {},
   "outputs": [],
   "source": [
    "step_length = 1    # The step length we take to get our samples from our corpus\n",
    "epochs = 100       # Number of times we train on our full data\n",
    "batch_size = 32    # Data samples in each training step\n",
    "latent_dim = 64    # Size of our LSTM\n",
    "dropout_rate = 0.2 # Regularization with dropout\n",
    "model_path = os.path.realpath('./poke_gen_model.h5') # Location for the model\n",
    "load_model = False # Enable loading model from disk\n",
    "store_model = True # Store model to disk after training\n",
    "verbosity = 1      # Print result for each epoch\n",
    "gen_amount = 10    # How many"
   ]
  },
  {
   "cell_type": "code",
   "execution_count": 15,
   "metadata": {},
   "outputs": [
    {
     "name": "stdout",
     "output_type": "stream",
     "text": [
      "['bulbasaur', 'ivysaur', 'venusaur', 'charmander', 'charmeleon', 'charizard', 'squirtle', 'wartortle', 'blastoise', 'caterpie', 'metapod', 'butterfree', 'weedle', 'kakuna', 'beedrill', 'pidgey', 'pidgeotto', 'pidgeot', 'rattata', 'raticate', 'spearow', 'fearow', 'ekans', 'arbok', 'pikachu', 'raichu', 'sandshrew', 'sandslash', 'nidoran-f', 'nidorina', 'nidoqueen', 'nidoran-m', 'nidorino', 'nidoking', 'clefairy', 'clefable', 'vulpix', 'ninetales', 'jigglypuff', 'wigglytuff', 'zubat', 'golbat', 'oddish', 'gloom', 'vileplume', 'paras', 'parasect', 'venonat', 'venomoth', 'diglett', 'dugtrio', 'meowth', 'persian', 'psyduck', 'golduck', 'mankey', 'primeape', 'growlithe', 'arcanine', 'poliwag', 'poliwhirl', 'poliwrath', 'abra', 'kadabra', 'alakazam', 'machop', 'machoke', 'machamp', 'bellsprout', 'weepinbell', 'victreebel', 'tentacool', 'tentacruel', 'geodude', 'graveler', 'golem', 'ponyta', 'rapidash', 'slowpoke', 'slowbro', 'magnemite', 'magneton', 'farfetchd', 'doduo', 'dodrio', 'seel', 'dewgong', 'grimer', 'muk', 'shellder', 'cloyster', 'gastly', 'haunter', 'gengar', 'onix', 'drowzee', 'hypno', 'krabby', 'kingler', 'voltorb', 'electrode', 'exeggcute', 'exeggutor', 'cubone', 'marowak', 'hitmonlee', 'hitmonchan', 'lickitung', 'koffing', 'weezing', 'rhyhorn', 'rhydon', 'chansey', 'tangela', 'kangaskhan', 'horsea', 'seadra', 'goldeen', 'seaking', 'staryu', 'starmie', 'mr-mime', 'scyther', 'jynx', 'electabuzz', 'magmar', 'pinsir', 'tauros', 'magikarp', 'gyarados', 'lapras', 'ditto', 'eevee', 'vaporeon', 'jolteon', 'flareon', 'porygon', 'omanyte', 'omastar', 'kabuto', 'kabutops', 'aerodactyl', 'snorlax', 'articuno', 'zapdos', 'moltres', 'dratini', 'dragonair', 'dragonite', 'mewtwo', 'mew', 'chikorita', 'bayleef', 'meganium', 'cyndaquil', 'quilava', 'typhlosion', 'totodile', 'croconaw', 'feraligatr', 'sentret', 'furret', 'hoothoot', 'noctowl', 'ledyba', 'ledian', 'spinarak', 'ariados', 'crobat', 'chinchou', 'lanturn', 'pichu', 'cleffa', 'igglybuff', 'togepi', 'togetic', 'natu', 'xatu', 'mareep', 'flaaffy', 'ampharos', 'bellossom', 'marill', 'azumarill', 'sudowoodo', 'politoed', 'hoppip', 'skiploom', 'jumpluff', 'aipom', 'sunkern', 'sunflora', 'yanma', 'wooper', 'quagsire', 'espeon', 'umbreon', 'murkrow', 'slowking', 'misdreavus', 'unown', 'wobbuffet', 'girafarig', 'pineco', 'forretress', 'dunsparce', 'gligar', 'steelix', 'snubbull', 'granbull', 'qwilfish', 'scizor', 'shuckle', 'heracross', 'sneasel', 'teddiursa', 'ursaring', 'slugma', 'magcargo', 'swinub', 'piloswine', 'corsola', 'remoraid', 'octillery', 'delibird', 'mantine', 'skarmory', 'houndour', 'houndoom', 'kingdra', 'phanpy', 'donphan', 'porygon2', 'stantler', 'smeargle', 'tyrogue', 'hitmontop', 'smoochum', 'elekid', 'magby', 'miltank', 'blissey', 'raikou', 'entei', 'suicune', 'larvitar', 'pupitar', 'tyranitar', 'lugia', 'ho-oh', 'celebi', 'treecko', 'grovyle', 'sceptile', 'torchic', 'combusken', 'blaziken', 'mudkip', 'marshtomp', 'swampert', 'poochyena', 'mightyena', 'zigzagoon', 'linoone', 'wurmple', 'silcoon', 'beautifly', 'cascoon', 'dustox', 'lotad', 'lombre', 'ludicolo', 'seedot', 'nuzleaf', 'shiftry', 'taillow', 'swellow', 'wingull', 'pelipper', 'ralts', 'kirlia', 'gardevoir', 'surskit', 'masquerain', 'shroomish', 'breloom', 'slakoth', 'vigoroth', 'slaking', 'nincada', 'ninjask', 'shedinja', 'whismur', 'loudred', 'exploud', 'makuhita', 'hariyama', 'azurill', 'nosepass', 'skitty', 'delcatty', 'sableye', 'mawile', 'aron', 'lairon', 'aggron', 'meditite', 'medicham', 'electrike', 'manectric', 'plusle', 'minun', 'volbeat', 'illumise', 'roselia', 'gulpin', 'swalot', 'carvanha', 'sharpedo', 'wailmer', 'wailord', 'numel', 'camerupt', 'torkoal', 'spoink', 'grumpig', 'spinda', 'trapinch', 'vibrava', 'flygon', 'cacnea', 'cacturne', 'swablu', 'altaria', 'zangoose', 'seviper', 'lunatone', 'solrock', 'barboach', 'whiscash', 'corphish', 'crawdaunt', 'baltoy', 'claydol', 'lileep', 'cradily', 'anorith', 'armaldo', 'feebas', 'milotic', 'castform', 'kecleon', 'shuppet', 'banette', 'duskull', 'dusclops', 'tropius', 'chimecho', 'absol', 'wynaut', 'snorunt', 'glalie', 'spheal', 'sealeo', 'walrein', 'clamperl', 'huntail', 'gorebyss', 'relicanth', 'luvdisc', 'bagon', 'shelgon', 'salamence', 'beldum', 'metang', 'metagross', 'regirock', 'regice', 'registeel', 'latias', 'latios', 'kyogre', 'groudon', 'rayquaza', 'jirachi', 'deoxys-normal', 'turtwig', 'grotle', 'torterra', 'chimchar', 'monferno', 'infernape', 'piplup', 'prinplup', 'empoleon', 'starly', 'staravia', 'staraptor', 'bidoof', 'bibarel', 'kricketot', 'kricketune', 'shinx', 'luxio', 'luxray', 'budew', 'roserade', 'cranidos', 'rampardos', 'shieldon', 'bastiodon', 'burmy', 'wormadam-plant', 'mothim', 'combee', 'vespiquen', 'pachirisu', 'buizel', 'floatzel', 'cherubi', 'cherrim', 'shellos', 'gastrodon', 'ambipom', 'drifloon', 'drifblim', 'buneary', 'lopunny', 'mismagius', 'honchkrow', 'glameow', 'purugly', 'chingling', 'stunky', 'skuntank', 'bronzor', 'bronzong', 'bonsly', 'mime-jr', 'happiny', 'chatot', 'spiritomb', 'gible', 'gabite', 'garchomp', 'munchlax', 'riolu', 'lucario', 'hippopotas', 'hippowdon', 'skorupi', 'drapion', 'croagunk', 'toxicroak', 'carnivine', 'finneon', 'lumineon', 'mantyke', 'snover', 'abomasnow', 'weavile', 'magnezone', 'lickilicky', 'rhyperior', 'tangrowth', 'electivire', 'magmortar', 'togekiss', 'yanmega', 'leafeon', 'glaceon', 'gliscor', 'mamoswine', 'porygon-z', 'gallade', 'probopass', 'dusknoir', 'froslass', 'rotom', 'uxie', 'mesprit', 'azelf', 'dialga', 'palkia', 'heatran', 'regigigas', 'giratina-altered', 'cresselia', 'phione', 'manaphy', 'darkrai', 'shaymin-land', 'arceus', 'victini', 'snivy', 'servine', 'serperior', 'tepig', 'pignite', 'emboar', 'oshawott', 'dewott', 'samurott', 'patrat', 'watchog', 'lillipup', 'herdier', 'stoutland', 'purrloin', 'liepard', 'pansage', 'simisage', 'pansear', 'simisear', 'panpour', 'simipour', 'munna', 'musharna', 'pidove', 'tranquill', 'unfezant', 'blitzle', 'zebstrika', 'roggenrola', 'boldore', 'gigalith', 'woobat', 'swoobat', 'drilbur', 'excadrill', 'audino', 'timburr', 'gurdurr', 'conkeldurr', 'tympole', 'palpitoad', 'seismitoad', 'throh', 'sawk', 'sewaddle', 'swadloon', 'leavanny', 'venipede', 'whirlipede', 'scolipede', 'cottonee', 'whimsicott', 'petilil', 'lilligant', 'basculin-red-striped', 'sandile', 'krokorok', 'krookodile', 'darumaka', 'darmanitan-standard', 'maractus', 'dwebble', 'crustle', 'scraggy', 'scrafty', 'sigilyph', 'yamask', 'cofagrigus', 'tirtouga', 'carracosta', 'archen', 'archeops', 'trubbish', 'garbodor', 'zorua', 'zoroark', 'minccino', 'cinccino', 'gothita', 'gothorita', 'gothitelle', 'solosis', 'duosion', 'reuniclus', 'ducklett', 'swanna', 'vanillite', 'vanillish', 'vanilluxe', 'deerling', 'sawsbuck', 'emolga', 'karrablast', 'escavalier', 'foongus', 'amoonguss', 'frillish', 'jellicent', 'alomomola', 'joltik', 'galvantula', 'ferroseed', 'ferrothorn', 'klink', 'klang', 'klinklang', 'tynamo', 'eelektrik', 'eelektross', 'elgyem', 'beheeyem', 'litwick', 'lampent', 'chandelure', 'axew', 'fraxure', 'haxorus', 'cubchoo', 'beartic', 'cryogonal', 'shelmet', 'accelgor', 'stunfisk', 'mienfoo', 'mienshao', 'druddigon', 'golett', 'golurk', 'pawniard', 'bisharp', 'bouffalant', 'rufflet', 'braviary', 'vullaby', 'mandibuzz', 'heatmor', 'durant', 'deino', 'zweilous', 'hydreigon', 'larvesta', 'volcarona', 'cobalion', 'terrakion', 'virizion', 'tornadus-incarnate', 'thundurus-incarnate', 'reshiram', 'zekrom', 'landorus-incarnate', 'kyurem', 'keldeo-ordinary', 'meloetta-aria', 'genesect', 'chespin', 'quilladin', 'chesnaught', 'fennekin', 'braixen', 'delphox', 'froakie', 'frogadier', 'greninja', 'bunnelby', 'diggersby', 'fletchling', 'fletchinder', 'talonflame', 'scatterbug', 'spewpa', 'vivillon', 'litleo', 'pyroar', 'flabebe', 'floette', 'florges', 'skiddo', 'gogoat', 'pancham', 'pangoro', 'furfrou', 'espurr', 'meowstic-male', 'honedge', 'doublade', 'aegislash-shield', 'spritzee', 'aromatisse', 'swirlix', 'slurpuff', 'inkay', 'malamar', 'binacle', 'barbaracle', 'skrelp', 'dragalge', 'clauncher', 'clawitzer', 'helioptile', 'heliolisk', 'tyrunt', 'tyrantrum', 'amaura', 'aurorus', 'sylveon', 'hawlucha', 'dedenne', 'carbink', 'goomy', 'sliggoo', 'goodra', 'klefki', 'phantump', 'trevenant', 'pumpkaboo-average', 'gourgeist-average', 'bergmite', 'avalugg', 'noibat', 'noivern', 'xerneas', 'yveltal', 'zygarde', 'diancie', 'hoopa', 'volcanion', 'rowlet', 'dartrix', 'decidueye', 'litten', 'torracat', 'incineroar', 'popplio', 'brionne', 'primarina', 'pikipek', 'trumbeak', 'toucannon', 'yungoos', 'gumshoos', 'grubbin', 'charjabug', 'vikavolt', 'crabrawler', 'crabominable', 'oricorio-baile', 'cutiefly', 'ribombee', 'rockruff', 'lycanroc-midday', 'wishiwashi-solo', 'mareanie', 'toxapex', 'mudbray', 'mudsdale', 'dewpider', 'araquanid', 'fomantis', 'lurantis', 'morelull', 'shiinotic', 'salandit', 'salazzle', 'stufful', 'bewear', 'bounsweet', 'steenee', 'tsareena', 'comfey', 'oranguru', 'passimian', 'wimpod', 'golisopod', 'sandygast', 'palossand', 'pyukumuku', 'type-null', 'silvally', 'minior-red-meteor', 'komala', 'turtonator', 'togedemaru', 'mimikyu-disguised', 'bruxish', 'drampa', 'dhelmise', 'jangmo-o', 'hakamo-o', 'kommo-o', 'tapu-koko', 'tapu-lele', 'tapu-bulu', 'tapu-fini', 'cosmog', 'cosmoem', 'solgaleo', 'lunala', 'nihilego', 'buzzwole', 'pheromosa', 'xurkitree', 'celesteela', 'kartana', 'guzzlord', 'necrozma', 'magearna', 'marshadow', 'poipole', 'naganadel', 'stakataka', 'blacephalon', 'zeraora', 'deoxys-attack', 'deoxys-defense', 'deoxys-speed', 'wormadam-sandy', 'wormadam-trash', 'shaymin-sky', 'giratina-origin', 'rotom-heat', 'rotom-wash', 'rotom-frost', 'rotom-fan', 'rotom-mow', 'castform-sunny', 'castform-rainy', 'castform-snowy', 'basculin-blue-striped', 'darmanitan-zen', 'meloetta-pirouette', 'tornadus-therian', 'thundurus-therian', 'landorus-therian', 'kyurem-black', 'kyurem-white', 'keldeo-resolute', 'meowstic-female', 'aegislash-blade', 'pumpkaboo-small', 'pumpkaboo-large', 'pumpkaboo-super', 'gourgeist-small', 'gourgeist-large', 'gourgeist-super', 'venusaur-mega', 'charizard-mega-x', 'charizard-mega-y', 'blastoise-mega', 'alakazam-mega', 'gengar-mega', 'kangaskhan-mega', 'pinsir-mega', 'gyarados-mega', 'aerodactyl-mega', 'mewtwo-mega-x', 'mewtwo-mega-y', 'ampharos-mega', 'scizor-mega', 'heracross-mega', 'houndoom-mega', 'tyranitar-mega', 'blaziken-mega', 'gardevoir-mega', 'mawile-mega', 'aggron-mega', 'medicham-mega', 'manectric-mega', 'banette-mega', 'absol-mega', 'garchomp-mega', 'lucario-mega', 'abomasnow-mega', 'floette-eternal', 'latias-mega', 'latios-mega', 'swampert-mega', 'sceptile-mega', 'sableye-mega', 'altaria-mega', 'gallade-mega', 'audino-mega', 'sharpedo-mega', 'slowbro-mega', 'steelix-mega', 'pidgeot-mega', 'glalie-mega', 'diancie-mega', 'metagross-mega', 'kyogre-primal', 'groudon-primal', 'rayquaza-mega', 'pikachu-rock-star', 'pikachu-belle', 'pikachu-pop-star', 'pikachu-phd', 'pikachu-libre', 'pikachu-cosplay', 'hoopa-unbound', 'camerupt-mega', 'lopunny-mega', 'salamence-mega', 'beedrill-mega', 'rattata-alola', 'raticate-alola', 'raticate-totem-alola', 'pikachu-original-cap', 'pikachu-hoenn-cap', 'pikachu-sinnoh-cap', 'pikachu-unova-cap', 'pikachu-kalos-cap', 'pikachu-alola-cap', 'raichu-alola', 'sandshrew-alola', 'sandslash-alola', 'vulpix-alola', 'ninetales-alola', 'diglett-alola', 'dugtrio-alola', 'meowth-alola', 'persian-alola', 'geodude-alola', 'graveler-alola', 'golem-alola', 'grimer-alola', 'muk-alola', 'exeggutor-alola', 'marowak-alola', 'greninja-battle-bond', 'greninja-ash', 'zygarde-10', 'zygarde-50', 'zygarde-complete', 'gumshoos-totem', 'vikavolt-totem', 'oricorio-pom-pom', 'oricorio-pau', 'oricorio-sensu', 'lycanroc-midnight', 'wishiwashi-school', 'lurantis-totem', 'salazzle-totem', 'minior-orange-meteor', 'minior-yellow-meteor', 'minior-green-meteor', 'minior-blue-meteor', 'minior-indigo-meteor', 'minior-violet-meteor', 'minior-red', 'minior-orange', 'minior-yellow', 'minior-green', 'minior-blue', 'minior-indigo', 'minior-violet', 'mimikyu-busted', 'mimikyu-totem-disguised', 'mimikyu-totem-busted', 'kommo-o-totem', 'magearna-original', 'pikachu-partner-cap', 'marowak-totem', 'ribombee-totem', 'rockruff-own-tempo', 'lycanroc-dusk', 'araquanid-totem', 'togedemaru-totem', 'necrozma-dusk', 'necrozma-dawn', 'necrozma-ultra']\n"
     ]
    }
   ],
   "source": [
    "result = requests.get(\"https://pokeapi.co/api/v2/pokemon/?limit=1000\").json()\n",
    "full_names = [result['results'][i]['name'] for i in range(result['count'])]\n",
    "print(full_names)"
   ]
  },
  {
   "cell_type": "code",
   "execution_count": 16,
   "metadata": {
    "scrolled": true
   },
   "outputs": [
    {
     "name": "stdout",
     "output_type": "stream",
     "text": [
      "['machop.', 'reshiram.', 'solosis.', 'mudbray.', 'slugma.', 'vanillish.', 'porygon2.', 'torterra.', 'forretress.', 'kyogre.', 'arcanine.', 'dustox.', 'buzzwole.', 'noctowl.', 'foongus.', 'magneton.', 'kartana.', 'xurkitree.', 'nihilego.', 'delcatty.', 'elekid.', 'zoroark.', 'heatran.', 'tepig.', 'garbodor.', 'geodude.', 'goldeen.', 'pachirisu.', 'floatzel.', 'zweilous.', 'vikavolt.', 'pyroar.', 'trapinch.', 'cleffa.', 'sudowoodo.', 'hoppip.', 'venipede.', 'phione.', 'moltres.', 'flabebe.', 'claydol.', 'chikorita.', 'oshawott.', 'venomoth.', 'kricketune.', 'crabominable.', 'bounsweet.', 'manaphy.', 'solrock.', 'relicanth.', 'caterpie.', 'graveler.', 'bergmite.', 'golett.', 'doublade.', 'golurk.', 'regirock.', 'crustle.', 'zekrom.', 'exeggutor.', 'swablu.', 'fletchinder.', 'simisear.', 'poochyena.', 'pineco.', 'mismagius.', 'tangrowth.', 'scyther.', 'snorlax.', 'eevee.', 'vullaby.', 'meowstic.', 'ampharos.', 'drampa.', 'clamperl.', 'torkoal.', 'wimpod.', 'carbink.', 'psyduck.', 'grovyle.', 'armaldo.', 'shuppet.', 'turtwig.', 'infernape.', 'carvanha.', 'mantyke.', 'rampardos.', 'weavile.', 'blitzle.', 'azelf.', 'seaking.', 'pidove.', 'seismitoad.', 'butterfree.', 'aegislash.', 'charjabug.', 'braviary.', 'ariados.', 'sunkern.', 'aipom.', 'sawk.', 'mr.', 'misdreavus.', 'mudkip.', 'larvitar.', 'dialga.', 'spinda.', 'cacturne.', 'pansage.', 'goodra.', 'hariyama.', 'luvdisc.', 'clefable.', 'bisharp.', 'walrein.', 'bibarel.', 'chingling.', 'charizard.', 'swampert.', 'spoink.', 'darmanitan.', 'jynx.', 'gabite.', 'terrakion.', 'rowlet.', 'rhydon.', 'teddiursa.', 'houndoom.', 'passimian.', 'larvesta.', 'sandshrew.', 'weepinbell.', 'patrat.', 'oddish.', 'ditto.', 'surskit.', 'shelgon.', 'doduo.', 'servine.', 'alakazam.', 'pawniard.', 'celebi.', 'dratini.', 'paras.', 'golisopod.', 'pupitar.', 'metang.', 'druddigon.', 'giratina.', 'frillish.', 'growlithe.', 'bonsly.', 'palpitoad.', 'drifloon.', 'kangaskhan.', 'piloswine.', 'hitmonlee.', 'cascoon.', 'starly.', 'ekans.', 'cyndaquil.', 'shiinotic.', 'inkay.', 'hoopa.', 'fomantis.', 'porygon.', 'camerupt.', 'azurill.', 'pansear.', 'alomomola.', 'delphox.', 'mewtwo.', 'greninja.', 'sentret.', 'gengar.', 'eelektrik.', 'klink.', 'lanturn.', 'zangoose.', 'slowbro.', 'steenee.', 'crobat.', 'mawile.', 'bronzong.', 'zubat.', 'silcoon.', 'leavanny.', 'snivy.', 'dugtrio.', 'staryu.', 'burmy.', 'kommo.', 'watchog.', 'hydreigon.', 'muk.', 'ninjask.', 'floette.', 'cryogonal.', 'mantine.', 'makuhita.', 'basculin.', 'trevenant.', 'wartortle.', 'zeraora.', 'rufflet.', 'tentacool.', 'sableye.', 'scraggy.', 'magcargo.', 'espeon.', 'leafeon.', 'tapu.', 'piplup.', 'ursaring.', 'nidorino.', 'shedinja.', 'turtonator.', 'decidueye.', 'bellossom.', 'wooper.', 'chespin.', 'venonat.', 'hippowdon.', 'exeggcute.', 'lopunny.', 'numel.', 'lunatone.', 'marshtomp.', 'probopass.', 'roserade.', 'chinchou.', 'feebas.', 'fennekin.', 'florges.', 'volcanion.', 'krookodile.', 'tympole.', 'dragonair.', 'delibird.', 'jangmo.', 'staraptor.', 'octillery.', 'swalot.', 'buizel.', 'gyarados.', 'pyukumuku.', 'monferno.', 'sneasel.', 'ninetales.', 'dodrio.', 'vivillon.', 'goomy.', 'stufful.', 'lotad.', 'simipour.', 'mudsdale.', 'lickitung.', 'omastar.', 'uxie.', 'regice.', 'flareon.', 'magnemite.', 'pidgeotto.', 'vulpix.', 'rhyperior.', 'dragonite.', 'vigoroth.', 'dewpider.', 'haunter.', 'dedenne.', 'beldum.', 'corphish.', 'tirtouga.', 'araquanid.', 'cranidos.', 'pidgeot.', 'scolipede.', 'diglett.', 'rotom.', 'aron.', 'salazzle.', 'poliwhirl.', 'totodile.', 'toxicroak.', 'croagunk.', 'pignite.', 'eelektross.', 'whismur.', 'metagross.', 'glaceon.', 'hakamo.', 'whirlipede.', 'slowpoke.', 'amaura.', 'omanyte.', 'chandelure.', 'meditite.', 'tranquill.', 'serperior.', 'necrozma.', 'kingdra.', 'panpour.', 'mesprit.', 'mew.', 'lairon.', 'gliscor.', 'magmar.', 'cresselia.', 'cutiefly.', 'salandit.', 'lilligant.', 'seviper.', 'chimecho.', 'honedge.', 'lucario.', 'tyrunt.', 'phantump.', 'venusaur.', 'ledyba.', 'dragalge.', 'staravia.', 'krokorok.', 'helioptile.', 'shinx.', 'vanillite.', 'togepi.', 'genesect.', 'charmander.', 'mandibuzz.', 'primarina.', 'gourgeist.', 'dunsparce.', 'ludicolo.', 'shroomish.', 'binacle.', 'darumaka.', 'xerneas.', 'stoutland.', 'jigglypuff.', 'yveltal.', 'dusclops.', 'pelipper.', 'vileplume.', 'kirlia.', 'sliggoo.', 'wynaut.', 'budew.', 'dusknoir.', 'salamence.', 'flaaffy.', 'lickilicky.', 'fraxure.', 'emboar.', 'murkrow.', 'pikipek.', 'wingull.', 'tropius.', 'aromatisse.', 'sharpedo.', 'xatu.', 'golbat.', 'purugly.', 'froakie.', 'oricorio.', 'pidgey.', 'corsola.', 'squirtle.', 'beedrill.', 'entei.', 'raticate.', 'hippopotas.', 'victini.', 'lampent.', 'parasect.', 'spheal.', 'timburr.', 'hypno.', 'spinarak.', 'boldore.', 'nidoqueen.', 'grumpig.', 'weezing.', 'qwilfish.', 'mankey.', 'rattata.', 'electrode.', 'gogoat.', 'mienfoo.', 'skitty.', 'igglybuff.', 'sandile.', 'natu.', 'seedot.', 'lombre.', 'miltank.', 'carnivine.', 'primeape.', 'skrelp.', 'arbok.', 'litwick.', 'persian.', 'unfezant.', 'seadra.', 'togedemaru.', 'chatot.', 'malamar.', 'ferroseed.', 'arceus.', 'deoxys.', 'spritzee.', 'litten.', 'silvally.', 'umbreon.', 'skarmory.', 'quilava.', 'starmie.', 'breloom.', 'cherrim.', 'magearna.', 'kakuna.', 'galvantula.', 'heatmor.', 'zygarde.', 'gothita.', 'cherubi.', 'tynamo.', 'volbeat.', 'shuckle.', 'whiscash.', 'tyrantrum.', 'purrloin.', 'braixen.', 'sunflora.', 'minun.', 'drilbur.', 'nuzleaf.', 'kabuto.', 'huntail.', 'darkrai.', 'ducklett.', 'houndour.', 'jirachi.', 'escavalier.', 'prinplup.', 'phanpy.', 'combee.', 'drifblim.', 'blacephalon.', 'brionne.', 'haxorus.', 'tyrogue.', 'vaporeon.', 'samurott.', 'meloetta.', 'poipole.', 'dewott.', 'drapion.', 'tornadus.', 'electabuzz.', 'shellos.', 'unown.', 'ledian.', 'rayquaza.', 'zebstrika.', 'gligar.', 'cofagrigus.', 'mienshao.', 'chansey.', 'virizion.', 'avalugg.', 'lillipup.', 'dhelmise.', 'shellder.', 'buneary.', 'stakataka.', 'banette.', 'lurantis.', 'incineroar.', 'minccino.', 'stunfisk.', 'bouffalant.', 'nincada.', 'gigalith.', 'swirlix.', 'zigzagoon.', 'aggron.', 'amoonguss.', 'trubbish.', 'zorua.', 'kricketot.', 'cosmoem.', 'kabutops.', 'grubbin.', 'musharna.', 'gastly.', 'yamask.', 'crabrawler.', 'gallade.', 'glameow.', 'ferrothorn.', 'kingler.', 'skiploom.', 'whimsicott.', 'krabby.', 'bulbasaur.', 'durant.', 'fletchling.', 'maractus.', 'mareanie.', 'barboach.', 'mimikyu.', 'bunnelby.', 'kyurem.', 'ambipom.', 'cobalion.', 'tauros.', 'elgyem.', 'sawsbuck.', 'metapod.', 'drowzee.', 'snorunt.', 'wobbuffet.', 'tentacruel.', 'kadabra.', 'cubchoo.', 'magnezone.', 'archeops.', 'tsareena.', 'happiny.', 'weedle.', 'mareep.', 'noivern.', 'combusken.', 'castform.', 'gothitelle.', 'raichu.', 'blastoise.', 'luxio.', 'exploud.', 'quilladin.', 'glalie.', 'togekiss.', 'thundurus.', 'solgaleo.', 'granbull.', 'victreebel.', 'dartrix.', 'duosion.', 'ribombee.', 'seel.', 'koffing.', 'slaking.', 'grimer.', 'magikarp.', 'scrafty.', 'bagon.', 'sceptile.', 'abra.', 'klang.', 'cinccino.', 'cradily.', 'jolteon.', 'politoed.', 'meowth.', 'quagsire.', 'feraligatr.', 'gulpin.', 'machoke.', 'hoothoot.', 'dewgong.', 'petilil.', 'heracross.', 'donphan.', 'scizor.', 'furfrou.', 'groudon.', 'crawdaunt.', 'pinsir.', 'marowak.', 'litleo.', 'frogadier.', 'dwebble.', 'pancham.', 'altaria.', 'milotic.', 'hawlucha.', 'regigigas.', 'diancie.', 'manectric.', 'lapras.', 'skorupi.', 'riolu.', 'smoochum.', 'carracosta.', 'toucannon.', 'type.', 'golem.', 'spiritomb.', 'marshadow.', 'gardevoir.', 'simisage.', 'suicune.', 'marill.', 'nidoking.', 'skuntank.', 'morelull.', 'froslass.', 'talonflame.', 'clefairy.', 'jellicent.', 'taillow.', 'charmeleon.', 'lycanroc.', 'gible.', 'flygon.', 'spearow.', 'shelmet.', 'diggersby.', 'cosmog.', 'mothim.', 'blissey.', 'raikou.', 'electrike.', 'munchlax.', 'skiddo.', 'herdier.', 'slakoth.', 'registeel.', 'remoraid.', 'keldeo.', 'munna.', 'electivire.', 'empoleon.', 'linoone.', 'gastrodon.', 'klinklang.', 'slurpuff.', 'sealeo.', 'celesteela.', 'horsea.', 'abomasnow.', 'lunala.', 'oranguru.', 'tyranitar.', 'zapdos.', 'cloyster.', 'beheeyem.', 'roggenrola.', 'stunky.', 'rockruff.', 'smeargle.', 'loudred.', 'rapidash.', 'gothorita.', 'beartic.', 'toxapex.', 'cottonee.', 'pikachu.', 'poliwrath.', 'guzzlord.', 'swadloon.', 'magby.', 'aerodactyl.', 'wurmple.', 'duskull.', 'mime.', 'woobat.', 'furret.', 'gumshoos.', 'trumbeak.', 'meganium.', 'mightyena.', 'garchomp.', 'medicham.', 'volcarona.', 'minior.', 'farfetchd.', 'swoobat.', 'nidorina.', 'ralts.', 'bellsprout.', 'komala.', 'bidoof.', 'sewaddle.', 'ivysaur.', 'swinub.', 'audino.', 'luxray.', 'hitmonchan.', 'roselia.', 'landorus.', 'articuno.', 'latias.', 'croconaw.', 'fearow.', 'grotle.', 'plusle.', 'togetic.', 'wailmer.', 'illumise.', 'steelix.', 'finneon.', 'pangoro.', 'ho.', 'espurr.', 'anorith.', 'chesnaught.', 'clawitzer.', 'snubbull.', 'barbaracle.', 'bayleef.', 'sandslash.', 'onix.', 'slowking.', 'nosepass.', 'shieldon.', 'rhyhorn.', 'bronzor.', 'voltorb.', 'latios.', 'gloom.', 'gurdurr.', 'cacnea.', 'girafarig.', 'gorebyss.', 'sigilyph.', 'typhlosion.', 'kecleon.', 'cubone.', 'blaziken.', 'sylveon.', 'torchic.', 'conkeldurr.', 'shiftry.', 'golduck.', 'swellow.', 'vespiquen.', 'axew.', 'reuniclus.', 'lumineon.', 'masquerain.', 'deerling.', 'wishiwashi.', 'deino.', 'stantler.', 'absol.', 'lugia.', 'vibrava.', 'swanna.', 'nidoran.', 'shaymin.', 'chimchar.', 'jumpluff.', 'baltoy.', 'bewear.', 'sandygast.', 'beautifly.', 'pichu.', 'wormadam.', 'pheromosa.', 'magmortar.', 'klefki.', 'mamoswine.', 'accelgor.', 'hitmontop.', 'joltik.', 'palkia.', 'noibat.', 'comfey.', 'wailord.', 'popplio.', 'liepard.', 'throh.', 'azumarill.', 'vanilluxe.', 'torracat.', 'tangela.', 'archen.', 'yanma.', 'scatterbug.', 'naganadel.', 'ponyta.', 'spewpa.', 'bruxish.', 'palossand.', 'poliwag.', 'emolga.', 'lileep.', 'bastiodon.', 'wigglytuff.', 'excadrill.', 'snover.', 'yungoos.', 'yanmega.', 'honchkrow.', 'clauncher.', 'treecko.', 'aurorus.', 'pumpkaboo.', 'machamp.', 'heliolisk.', 'karrablast.']\n"
     ]
    }
   ],
   "source": [
    "names_duplicates = list(map(lambda s: s.split('-')[0], full_names))\n",
    "names = list(set(names_duplicates))\n",
    "names = list(map(lambda s: s + '.', names))\n",
    "print(names)\n",
    "input_names = names"
   ]
  },
  {
   "cell_type": "code",
   "execution_count": 17,
   "metadata": {},
   "outputs": [
    {
     "name": "stdout",
     "output_type": "stream",
     "text": [
      "Total chars: 29\n",
      "Corpus length: 7559\n",
      "Number of names:  802\n",
      "Longest name:  13\n"
     ]
    }
   ],
   "source": [
    "# Make it all to a long string\n",
    "concat_names = '\\n'.join(input_names).lower()\n",
    "\n",
    "# Find all unique characters by using set()\n",
    "chars = sorted(list(set(concat_names)))\n",
    "num_chars = len(chars)\n",
    "\n",
    "# Build translation dictionaries, 'a' -> 0, 0 -> 'a'\n",
    "char2idx = dict((c, i) for i, c in enumerate(chars))\n",
    "idx2char = dict((i, c) for i, c in enumerate(chars))\n",
    "\n",
    "# Use longest name length as our sequence window\n",
    "max_sequence_length = max([len(name) for name in input_names])\n",
    "\n",
    "print('Total chars: {}'.format(num_chars))\n",
    "print('Corpus length:', len(concat_names))\n",
    "print('Number of names: ', len(input_names))\n",
    "print('Longest name: ', max_sequence_length)"
   ]
  },
  {
   "cell_type": "code",
   "execution_count": 20,
   "metadata": {
    "scrolled": true
   },
   "outputs": [
    {
     "name": "stdout",
     "output_type": "stream",
     "text": [
      "Number of sequences: 7546\n",
      "First 10 sequences and next chars:\n",
      "X=[machop. reshi]   y=[r]\n",
      "X=[achop. reshir]   y=[a]\n",
      "X=[chop. reshira]   y=[m]\n",
      "X=[hop. reshiram]   y=[.]\n",
      "X=[op. reshiram.]   y=[ ]\n",
      "X=[p. reshiram. ]   y=[s]\n",
      "X=[. reshiram. s]   y=[o]\n",
      "X=[ reshiram. so]   y=[l]\n",
      "X=[reshiram. sol]   y=[o]\n",
      "X=[eshiram. solo]   y=[s]\n"
     ]
    }
   ],
   "source": [
    "sequences = []\n",
    "next_chars = []\n",
    "\n",
    "# Loop over our data and extract pairs of sequances and next chars\n",
    "for i in range(0, len(concat_names) - max_sequence_length, step_length):\n",
    "    sequences.append(concat_names[i: i + max_sequence_length])\n",
    "    next_chars.append(concat_names[i + max_sequence_length])\n",
    "\n",
    "num_sequences = len(sequences)\n",
    "\n",
    "print('Number of sequences:', num_sequences)\n",
    "print('First 10 sequences and next chars:')\n",
    "for i in range(10):\n",
    "    print('X=[{}]   y=[{}]'.replace('\\n', ' ').format(sequences[i], next_chars[i]).replace('\\n', ' '))"
   ]
  },
  {
   "cell_type": "code",
   "execution_count": 21,
   "metadata": {},
   "outputs": [
    {
     "name": "stdout",
     "output_type": "stream",
     "text": [
      "X shape: (7546, 13, 29)\n",
      "Y shape: (7546, 29)\n"
     ]
    }
   ],
   "source": [
    "X = np.zeros((num_sequences, max_sequence_length, num_chars), dtype=np.bool)\n",
    "Y = np.zeros((num_sequences, num_chars), dtype=np.bool)\n",
    "\n",
    "for i, sequence in enumerate(sequences):\n",
    "    for j, char in enumerate(sequence):\n",
    "        X[i, j, char2idx[char]] = 1\n",
    "    Y[i, char2idx[next_chars[i]]] = 1\n",
    "    \n",
    "print('X shape: {}'.format(X.shape))\n",
    "print('Y shape: {}'.format(Y.shape))"
   ]
  },
  {
   "cell_type": "code",
   "execution_count": 22,
   "metadata": {},
   "outputs": [
    {
     "name": "stdout",
     "output_type": "stream",
     "text": [
      "WARNING:tensorflow:From C:\\Users\\d654248\\AppData\\Local\\Continuum\\anaconda3\\lib\\site-packages\\keras\\backend\\tensorflow_backend.py:74: The name tf.get_default_graph is deprecated. Please use tf.compat.v1.get_default_graph instead.\n",
      "\n",
      "WARNING:tensorflow:From C:\\Users\\d654248\\AppData\\Local\\Continuum\\anaconda3\\lib\\site-packages\\keras\\backend\\tensorflow_backend.py:517: The name tf.placeholder is deprecated. Please use tf.compat.v1.placeholder instead.\n",
      "\n",
      "WARNING:tensorflow:From C:\\Users\\d654248\\AppData\\Local\\Continuum\\anaconda3\\lib\\site-packages\\keras\\backend\\tensorflow_backend.py:4138: The name tf.random_uniform is deprecated. Please use tf.random.uniform instead.\n",
      "\n",
      "WARNING:tensorflow:From C:\\Users\\d654248\\AppData\\Local\\Continuum\\anaconda3\\lib\\site-packages\\keras\\backend\\tensorflow_backend.py:133: The name tf.placeholder_with_default is deprecated. Please use tf.compat.v1.placeholder_with_default instead.\n",
      "\n",
      "WARNING:tensorflow:From C:\\Users\\d654248\\AppData\\Local\\Continuum\\anaconda3\\lib\\site-packages\\keras\\backend\\tensorflow_backend.py:3445: calling dropout (from tensorflow.python.ops.nn_ops) with keep_prob is deprecated and will be removed in a future version.\n",
      "Instructions for updating:\n",
      "Please use `rate` instead of `keep_prob`. Rate should be set to `rate = 1 - keep_prob`.\n",
      "WARNING:tensorflow:From C:\\Users\\d654248\\AppData\\Local\\Continuum\\anaconda3\\lib\\site-packages\\keras\\optimizers.py:790: The name tf.train.Optimizer is deprecated. Please use tf.compat.v1.train.Optimizer instead.\n",
      "\n",
      "WARNING:tensorflow:From C:\\Users\\d654248\\AppData\\Local\\Continuum\\anaconda3\\lib\\site-packages\\keras\\backend\\tensorflow_backend.py:3295: The name tf.log is deprecated. Please use tf.math.log instead.\n",
      "\n",
      "_________________________________________________________________\n",
      "Layer (type)                 Output Shape              Param #   \n",
      "=================================================================\n",
      "lstm_1 (LSTM)                (None, 64)                24064     \n",
      "_________________________________________________________________\n",
      "dense_1 (Dense)              (None, 29)                1885      \n",
      "=================================================================\n",
      "Total params: 25,949\n",
      "Trainable params: 25,949\n",
      "Non-trainable params: 0\n",
      "_________________________________________________________________\n"
     ]
    }
   ],
   "source": [
    "model = Sequential()\n",
    "model.add(LSTM(latent_dim, \n",
    "               input_shape=(max_sequence_length, num_chars),  \n",
    "               recurrent_dropout=dropout_rate))\n",
    "model.add(Dense(units=num_chars, activation='softmax'))\n",
    "\n",
    "optimizer = RMSprop(lr=0.01)\n",
    "model.compile(loss='categorical_crossentropy',\n",
    "              optimizer=optimizer)\n",
    "\n",
    "model.summary()"
   ]
  },
  {
   "cell_type": "code",
   "execution_count": 23,
   "metadata": {},
   "outputs": [
    {
     "name": "stdout",
     "output_type": "stream",
     "text": [
      "Start training for 100 epochs\n",
      "WARNING:tensorflow:From C:\\Users\\d654248\\AppData\\Local\\Continuum\\anaconda3\\lib\\site-packages\\tensorflow_core\\python\\ops\\math_grad.py:1424: where (from tensorflow.python.ops.array_ops) is deprecated and will be removed in a future version.\n",
      "Instructions for updating:\n",
      "Use tf.where in 2.0, which has the same broadcast rule as np.where\n",
      "WARNING:tensorflow:From C:\\Users\\d654248\\AppData\\Local\\Continuum\\anaconda3\\lib\\site-packages\\keras\\backend\\tensorflow_backend.py:986: The name tf.assign_add is deprecated. Please use tf.compat.v1.assign_add instead.\n",
      "\n",
      "WARNING:tensorflow:From C:\\Users\\d654248\\AppData\\Local\\Continuum\\anaconda3\\lib\\site-packages\\keras\\backend\\tensorflow_backend.py:973: The name tf.assign is deprecated. Please use tf.compat.v1.assign instead.\n",
      "\n",
      "WARNING:tensorflow:From C:\\Users\\d654248\\AppData\\Local\\Continuum\\anaconda3\\lib\\site-packages\\keras\\backend\\tensorflow_backend.py:2741: The name tf.Session is deprecated. Please use tf.compat.v1.Session instead.\n",
      "\n",
      "Epoch 1/100\n",
      "WARNING:tensorflow:From C:\\Users\\d654248\\AppData\\Local\\Continuum\\anaconda3\\lib\\site-packages\\keras\\backend\\tensorflow_backend.py:174: The name tf.get_default_session is deprecated. Please use tf.compat.v1.get_default_session instead.\n",
      "\n",
      "WARNING:tensorflow:From C:\\Users\\d654248\\AppData\\Local\\Continuum\\anaconda3\\lib\\site-packages\\keras\\backend\\tensorflow_backend.py:181: The name tf.ConfigProto is deprecated. Please use tf.compat.v1.ConfigProto instead.\n",
      "\n",
      "WARNING:tensorflow:From C:\\Users\\d654248\\AppData\\Local\\Continuum\\anaconda3\\lib\\site-packages\\keras\\backend\\tensorflow_backend.py:190: The name tf.global_variables is deprecated. Please use tf.compat.v1.global_variables instead.\n",
      "\n",
      "WARNING:tensorflow:From C:\\Users\\d654248\\AppData\\Local\\Continuum\\anaconda3\\lib\\site-packages\\keras\\backend\\tensorflow_backend.py:199: The name tf.is_variable_initialized is deprecated. Please use tf.compat.v1.is_variable_initialized instead.\n",
      "\n",
      "WARNING:tensorflow:From C:\\Users\\d654248\\AppData\\Local\\Continuum\\anaconda3\\lib\\site-packages\\keras\\backend\\tensorflow_backend.py:206: The name tf.variables_initializer is deprecated. Please use tf.compat.v1.variables_initializer instead.\n",
      "\n",
      "7546/7546 [==============================] - 19s 2ms/step - loss: 2.5133\n",
      "Epoch 2/100\n",
      "7546/7546 [==============================] - 17s 2ms/step - loss: 2.2659\n",
      "Epoch 3/100\n",
      "7546/7546 [==============================] - 15s 2ms/step - loss: 2.1950\n",
      "Epoch 4/100\n",
      "7546/7546 [==============================] - 16s 2ms/step - loss: 2.1459\n",
      "Epoch 5/100\n",
      "7546/7546 [==============================] - 15s 2ms/step - loss: 2.0968\n",
      "Epoch 6/100\n",
      "7546/7546 [==============================] - 16s 2ms/step - loss: 2.0475\n",
      "Epoch 7/100\n",
      "7546/7546 [==============================] - 17s 2ms/step - loss: 2.0151\n",
      "Epoch 8/100\n",
      "7546/7546 [==============================] - 23s 3ms/step - loss: 1.9713\n",
      "Epoch 9/100\n",
      "7546/7546 [==============================] - 21s 3ms/step - loss: 1.9362\n",
      "Epoch 10/100\n",
      "7546/7546 [==============================] - 19s 3ms/step - loss: 1.9033\n",
      "Epoch 11/100\n",
      "7546/7546 [==============================] - 17s 2ms/step - loss: 1.8828\n",
      "Epoch 12/100\n",
      "7546/7546 [==============================] - 17s 2ms/step - loss: 1.8436\n",
      "Epoch 13/100\n",
      "7546/7546 [==============================] - 18s 2ms/step - loss: 1.8240\n",
      "Epoch 14/100\n",
      "7546/7546 [==============================] - 18s 2ms/step - loss: 1.7997\n",
      "Epoch 15/100\n",
      "7546/7546 [==============================] - 17s 2ms/step - loss: 1.7789\n",
      "Epoch 16/100\n",
      "7546/7546 [==============================] - 17s 2ms/step - loss: 1.7663\n",
      "Epoch 17/100\n",
      "7546/7546 [==============================] - 17s 2ms/step - loss: 1.7384\n",
      "Epoch 18/100\n",
      "7546/7546 [==============================] - 17s 2ms/step - loss: 1.7359\n",
      "Epoch 19/100\n",
      "7546/7546 [==============================] - 18s 2ms/step - loss: 1.7109\n",
      "Epoch 20/100\n",
      "7546/7546 [==============================] - 18s 2ms/step - loss: 1.6988\n",
      "Epoch 21/100\n",
      "7546/7546 [==============================] - 17s 2ms/step - loss: 1.6683\n",
      "Epoch 22/100\n",
      "7546/7546 [==============================] - 17s 2ms/step - loss: 1.6636\n",
      "Epoch 23/100\n",
      "7546/7546 [==============================] - 17s 2ms/step - loss: 1.6532\n",
      "Epoch 24/100\n",
      "7546/7546 [==============================] - 18s 2ms/step - loss: 1.6392\n",
      "Epoch 25/100\n",
      "7546/7546 [==============================] - 18s 2ms/step - loss: 1.6181\n",
      "Epoch 26/100\n",
      "7546/7546 [==============================] - 17s 2ms/step - loss: 1.6078\n",
      "Epoch 27/100\n",
      "7546/7546 [==============================] - 18s 2ms/step - loss: 1.6018\n",
      "Epoch 28/100\n",
      "7546/7546 [==============================] - 19s 3ms/step - loss: 1.5909\n",
      "Epoch 29/100\n",
      "7546/7546 [==============================] - 2990s 396ms/step - loss: 1.5718\n",
      "Epoch 30/100\n",
      "7546/7546 [==============================] - 27s 4ms/step - loss: 1.5786\n",
      "Epoch 31/100\n",
      "7546/7546 [==============================] - 15s 2ms/step - loss: 1.5676\n",
      "Epoch 32/100\n",
      "7546/7546 [==============================] - 15s 2ms/step - loss: 1.5562\n",
      "Epoch 33/100\n",
      "7546/7546 [==============================] - 22s 3ms/step - loss: 1.5321\n",
      "Epoch 34/100\n",
      "7546/7546 [==============================] - 18s 2ms/step - loss: 1.5231\n",
      "Epoch 35/100\n",
      "7546/7546 [==============================] - 18s 2ms/step - loss: 1.5180\n",
      "Epoch 36/100\n",
      "7546/7546 [==============================] - 22s 3ms/step - loss: 1.5185\n",
      "Epoch 37/100\n",
      "7546/7546 [==============================] - 18s 2ms/step - loss: 1.5036\n",
      "Epoch 38/100\n",
      "7546/7546 [==============================] - 6s 739us/step - loss: 1.5001\n",
      "Epoch 39/100\n",
      "7546/7546 [==============================] - 6s 838us/step - loss: 1.5141 0s - loss: 1.503 - ETA: 0s -\n",
      "Epoch 40/100\n",
      "7546/7546 [==============================] - 7s 910us/step - loss: 1.4952\n",
      "Epoch 41/100\n",
      "7546/7546 [==============================] - 6s 768us/step - loss: 1.4911 0s - \n",
      "Epoch 42/100\n",
      "7546/7546 [==============================] - 8s 994us/step - loss: 1.4816\n",
      "Epoch 43/100\n",
      "7546/7546 [==============================] - 5s 727us/step - loss: 1.4561\n",
      "Epoch 44/100\n",
      "7546/7546 [==============================] - 9s 1ms/step - loss: 1.4587\n",
      "Epoch 45/100\n",
      "7546/7546 [==============================] - 5s 696us/step - loss: 1.4603\n",
      "Epoch 46/100\n",
      "7546/7546 [==============================] - 5s 704us/step - loss: 1.4572\n",
      "Epoch 47/100\n",
      "7546/7546 [==============================] - 7s 959us/step - loss: 1.4337\n",
      "Epoch 48/100\n",
      "7546/7546 [==============================] - 5s 699us/step - loss: 1.4286 1s - loss: 1\n",
      "Epoch 49/100\n",
      "7546/7546 [==============================] - 5s 713us/step - loss: 1.4399\n",
      "Epoch 50/100\n",
      "7546/7546 [==============================] - 8s 995us/step - loss: 1.4119\n",
      "Epoch 51/100\n",
      "7546/7546 [==============================] - 5s 718us/step - loss: 1.4171\n",
      "Epoch 52/100\n",
      "7546/7546 [==============================] - 8s 995us/step - loss: 1.4034\n",
      "Epoch 53/100\n",
      "7546/7546 [==============================] - 5s 720us/step - loss: 1.4221\n",
      "Epoch 54/100\n",
      "7546/7546 [==============================] - 7s 920us/step - loss: 1.4007\n",
      "Epoch 55/100\n",
      "7546/7546 [==============================] - 7s 943us/step - loss: 1.4001\n",
      "Epoch 56/100\n",
      "7546/7546 [==============================] - 5s 719us/step - loss: 1.3942\n",
      "Epoch 57/100\n",
      "7546/7546 [==============================] - 7s 990us/step - loss: 1.3961 1s\n",
      "Epoch 58/100\n",
      "7546/7546 [==============================] - 6s 795us/step - loss: 1.3910 0s - l\n",
      "Epoch 59/100\n",
      "7546/7546 [==============================] - 7s 950us/step - loss: 1.3735 0s \n",
      "Epoch 60/100\n",
      "7546/7546 [==============================] - 7s 881us/step - loss: 1.3709\n",
      "Epoch 61/100\n",
      "7546/7546 [==============================] - 6s 838us/step - loss: 1.3715\n",
      "Epoch 62/100\n",
      "7546/7546 [==============================] - 9s 1ms/step - loss: 1.3653\n",
      "Epoch 63/100\n",
      "7546/7546 [==============================] - 6s 856us/step - loss: 1.3604 0s - loss: 1.3\n",
      "Epoch 64/100\n",
      "7546/7546 [==============================] - 9s 1ms/step - loss: 1.3654\n",
      "Epoch 65/100\n",
      "7546/7546 [==============================] - 6s 860us/step - loss: 1.3558\n",
      "Epoch 66/100\n",
      "7546/7546 [==============================] - 8s 1ms/step - loss: 1.3607\n",
      "Epoch 67/100\n",
      "7546/7546 [==============================] - 7s 874us/step - loss: 1.3535\n",
      "Epoch 68/100\n",
      "7546/7546 [==============================] - 8s 1ms/step - loss: 1.3388\n",
      "Epoch 69/100\n",
      "7546/7546 [==============================] - 6s 855us/step - loss: 1.3378\n"
     ]
    },
    {
     "name": "stdout",
     "output_type": "stream",
     "text": [
      "Epoch 70/100\n",
      "7546/7546 [==============================] - 8s 1ms/step - loss: 1.3449\n",
      "Epoch 71/100\n",
      "7546/7546 [==============================] - 5s 697us/step - loss: 1.3353\n",
      "Epoch 72/100\n",
      "7546/7546 [==============================] - 7s 938us/step - loss: 1.3237\n",
      "Epoch 73/100\n",
      "7546/7546 [==============================] - 8s 1ms/step - loss: 1.3222\n",
      "Epoch 74/100\n",
      "7546/7546 [==============================] - 6s 743us/step - loss: 1.3327\n",
      "Epoch 75/100\n",
      "7546/7546 [==============================] - 8s 1ms/step - loss: 1.3228\n",
      "Epoch 76/100\n",
      "7546/7546 [==============================] - 6s 753us/step - loss: 1.3221\n",
      "Epoch 77/100\n",
      "7546/7546 [==============================] - 5s 725us/step - loss: 1.3097\n",
      "Epoch 78/100\n",
      "7546/7546 [==============================] - ETA: 0s - loss: 1.299 - 9s 1ms/step - loss: 1.2991\n",
      "Epoch 79/100\n",
      "7546/7546 [==============================] - 5s 728us/step - loss: 1.2904\n",
      "Epoch 80/100\n",
      "7546/7546 [==============================] - 7s 991us/step - loss: 1.3033\n",
      "Epoch 81/100\n",
      "7546/7546 [==============================] - 5s 728us/step - loss: 1.3003\n",
      "Epoch 82/100\n",
      "7546/7546 [==============================] - 7s 927us/step - loss: 1.3016\n",
      "Epoch 83/100\n",
      "7546/7546 [==============================] - 7s 911us/step - loss: 1.3032\n",
      "Epoch 84/100\n",
      "7546/7546 [==============================] - 6s 744us/step - loss: 1.2959\n",
      "Epoch 85/100\n",
      "7546/7546 [==============================] - 8s 1ms/step - loss: 1.2943\n",
      "Epoch 86/100\n",
      "7546/7546 [==============================] - 6s 788us/step - loss: 1.2814\n",
      "Epoch 87/100\n",
      "7546/7546 [==============================] - 8s 1ms/step - loss: 1.2872A: 1s\n",
      "Epoch 88/100\n",
      "7546/7546 [==============================] - 6s 753us/step - loss: 1.2783\n",
      "Epoch 89/100\n",
      "7546/7546 [==============================] - 6s 739us/step - loss: 1.2819\n",
      "Epoch 90/100\n",
      "7546/7546 [==============================] - 8s 1ms/step - loss: 1.2839\n",
      "Epoch 91/100\n",
      "7546/7546 [==============================] - 6s 748us/step - loss: 1.2647\n",
      "Epoch 92/100\n",
      "7546/7546 [==============================] - 8s 1ms/step - loss: 1.2738\n",
      "Epoch 93/100\n",
      "7546/7546 [==============================] - 7s 898us/step - loss: 1.2766\n",
      "Epoch 94/100\n",
      "7546/7546 [==============================] - 8s 1ms/step - loss: 1.2616A: 0s - loss: 1\n",
      "Epoch 95/100\n",
      "7546/7546 [==============================] - 6s 833us/step - loss: 1.2652\n",
      "Epoch 96/100\n",
      "7546/7546 [==============================] - 7s 990us/step - loss: 1.2775\n",
      "Epoch 97/100\n",
      "7546/7546 [==============================] - 6s 834us/step - loss: 1.2498\n",
      "Epoch 98/100\n",
      "7546/7546 [==============================] - 6s 775us/step - loss: 1.2586\n",
      "Epoch 99/100\n",
      "7546/7546 [==============================] - 8s 1ms/step - loss: 1.2554\n",
      "Epoch 100/100\n",
      "7546/7546 [==============================] - 6s 800us/step - loss: 1.2399\n",
      "Finished training - time elapsed: 67.69865283171336 min\n",
      "Storing model at: C:\\Users\\d654248\\Documents\\Python Scripts\\pokemon-name-generator\\poke_gen_model.h5\n"
     ]
    }
   ],
   "source": [
    "if load_model:\n",
    "    model.load(model_path)\n",
    "else:\n",
    "    \n",
    "    start = time.time()\n",
    "    print('Start training for {} epochs'.format(epochs))\n",
    "    history = model.fit(X, Y, epochs=epochs, batch_size=batch_size, verbose=verbosity)\n",
    "    end = time.time()\n",
    "    print('Finished training - time elapsed:', (end - start)/60, 'min')\n",
    "    \n",
    "if store_model:\n",
    "    print('Storing model at:', model_path)\n",
    "    model.save(model_path)"
   ]
  },
  {
   "cell_type": "code",
   "execution_count": 24,
   "metadata": {},
   "outputs": [
    {
     "name": "stdout",
     "output_type": "stream",
     "text": [
      "10 new names are being generated\n",
      "Generated 0\n",
      "Generated 1\n",
      "Generated 2\n",
      "Generated 2\n",
      "Generated 3\n",
      "Generated 4\n",
      "Generated 5\n",
      "Generated 6\n",
      "Generated 7\n",
      "Generated 8\n",
      "Generated 9\n",
      "Generated 10\n"
     ]
    }
   ],
   "source": [
    "# Start sequence generation from end of the input sequence\n",
    "sequence = concat_names[-(max_sequence_length - 1):] + '\\n'\n",
    "\n",
    "new_names = []\n",
    "\n",
    "print('{} new names are being generated'.format(gen_amount))\n",
    "\n",
    "while len(new_names) < gen_amount:\n",
    "    \n",
    "    # Vectorize sequence for prediction\n",
    "    x = np.zeros((1, max_sequence_length, num_chars))\n",
    "    for i, char in enumerate(sequence):\n",
    "        x[0, i, char2idx[char]] = 1\n",
    "\n",
    "    # Sample next char from predicted probabilities\n",
    "    probs = model.predict(x, verbose=0)[0]\n",
    "    probs /= probs.sum()\n",
    "    next_idx = np.random.choice(len(probs), p=probs)   \n",
    "    next_char = idx2char[next_idx]   \n",
    "    sequence = sequence[1:] + next_char\n",
    "\n",
    "    # New line means we have a new name\n",
    "    if next_char == '\\n':\n",
    "\n",
    "        gen_name = [name for name in sequence.split('\\n')][1]\n",
    "\n",
    "        # Never start name with two identical chars, could probably also\n",
    "        if len(gen_name) > 2 and gen_name[0] == gen_name[1]:\n",
    "            gen_name = gen_name[1:]\n",
    "\n",
    "        # Discard all names that are too short\n",
    "        if len(gen_name) > 2:\n",
    "            \n",
    "            # Only allow new and unique names\n",
    "            if gen_name not in input_names + new_names:\n",
    "                new_names.append(gen_name.capitalize())\n",
    "\n",
    "        if 0 == (len(new_names) % (gen_amount/ 10)):\n",
    "            print('Generated {}'.format(len(new_names)))"
   ]
  },
  {
   "cell_type": "code",
   "execution_count": 25,
   "metadata": {},
   "outputs": [
    {
     "name": "stdout",
     "output_type": "stream",
     "text": [
      "First 10 generated names:\n",
      "Arunchur.\n",
      "Blaking.\n",
      "Pigon.\n",
      "Venopudre.\n",
      "Shellasd.\n",
      "Xirhoigs.\n",
      "Slurvaqua.\n",
      "Viveler.\n",
      "Amasdus.\n",
      "Mawshick.\n"
     ]
    }
   ],
   "source": [
    "print_first_n = min(10, gen_amount)\n",
    "\n",
    "print('First {} generated names:'.format(print_first_n))\n",
    "for name in new_names[:print_first_n]:\n",
    "    print(name)"
   ]
  },
  {
   "cell_type": "code",
   "execution_count": 27,
   "metadata": {},
   "outputs": [],
   "source": [
    "\n",
    "concat_output = '\\n'.join(sorted(new_names))\n",
    "output_path = os.path.realpath('./generated_names.txt')\n",
    "\n",
    "with open(output_path, 'w') as f:\n",
    "    f.write(concat_output)"
   ]
  },
  {
   "cell_type": "code",
   "execution_count": null,
   "metadata": {},
   "outputs": [],
   "source": []
  }
 ],
 "metadata": {
  "kernelspec": {
   "display_name": "Python 3",
   "language": "python",
   "name": "python3"
  },
  "language_info": {
   "codemirror_mode": {
    "name": "ipython",
    "version": 3
   },
   "file_extension": ".py",
   "mimetype": "text/x-python",
   "name": "python",
   "nbconvert_exporter": "python",
   "pygments_lexer": "ipython3",
   "version": "3.7.4"
  }
 },
 "nbformat": 4,
 "nbformat_minor": 2
}
